{
 "cells": [
  {
   "cell_type": "code",
   "execution_count": 48,
   "metadata": {},
   "outputs": [],
   "source": [
    "from pgmpy.models import FactorGraph\n",
    "from pgmpy.factors.discrete import DiscreteFactor\n",
    "import numpy as np"
   ]
  },
  {
   "cell_type": "code",
   "execution_count": 49,
   "metadata": {},
   "outputs": [],
   "source": [
    "import math\n",
    "import sys\n",
    "sys.path.append(\"../CSP/\")\n",
    "from sudoku import Sudoku\n",
    "\n",
    "\n",
    "# sudoku = Sudoku.make_sudoku()\n",
    "sudoku = Sudoku(init=[[4, 0, 0, 0], [0, 0, 0, 0], [1, 0, 4, 0], [0, 0, 0, 2]])"
   ]
  },
  {
   "cell_type": "code",
   "execution_count": 50,
   "metadata": {},
   "outputs": [],
   "source": [
    "# sudoku_size = 4\n",
    "# print(np.base_repr(15, 4))\n",
    "# print(type(np.base_repr(15, 4)))\n",
    "# print(sum([int(char) for char in np.base_repr(15, 4)]))\n",
    "# for i in range(sudoku_size ** sudoku_size):\n",
    "#     print(True if sum([int(char) for char in np.base_repr(i, sudoku_size)]) == 6 else False, i)\n"
   ]
  },
  {
   "cell_type": "code",
   "execution_count": 51,
   "metadata": {},
   "outputs": [],
   "source": [
    "sudoku_size = 4\n",
    "root_sudoku_size = int(math.sqrt(sudoku_size))\n",
    "pow_two_mask_except_zero = [] #True if . False in Otherwise\n",
    "for i in range(sudoku_size ** sudoku_size):\n",
    "    base_sudoku_size_state = [int(char) for char in np.base_repr(i, sudoku_size)]\n",
    "    pow_two_mask_except_zero.append(True if sum(base_sudoku_size_state) == 6 and len([num for num in base_sudoku_size_state if num != 0]) == 3 else False)\n",
    "\n",
    "enforce_rate = 0.99\n",
    "factor_prob = np.where(pow_two_mask_except_zero, enforce_rate, 1 - enforce_rate)\n",
    "number_of_random_variable_state = [sudoku_size for _ in range(sudoku_size)]"
   ]
  },
  {
   "cell_type": "code",
   "execution_count": 52,
   "metadata": {},
   "outputs": [
    {
     "data": {
      "text/plain": [
       "True"
      ]
     },
     "execution_count": 52,
     "metadata": {},
     "output_type": "execute_result"
    }
   ],
   "source": [
    "graph = FactorGraph()\n",
    "graph.add_nodes_from([\"{}_{}\".format(y, x) for y in range(sudoku_size) for x in range(sudoku_size)])\n",
    "# print(\"=\"*50)\n",
    "#column constraint\n",
    "for y in range(sudoku_size):\n",
    "    target_node = [\"{}_{}\".format(y, x) for x in range(sudoku_size)]\n",
    "    # print(target_node)\n",
    "    factor = DiscreteFactor(target_node, number_of_random_variable_state, factor_prob)\n",
    "    graph.add_factors(factor)\n",
    "    graph.add_edges_from([(target_node[i], factor) for i in range(sudoku_size)])\n",
    "# print(\"=\"*50)\n",
    "# row constraint\n",
    "for x in range(sudoku_size):\n",
    "    target_node = [\"{}_{}\".format(y, x) for y in range(sudoku_size)]\n",
    "    # print(target_node)\n",
    "    factor = DiscreteFactor(target_node, number_of_random_variable_state, factor_prob)\n",
    "    graph.add_factors(factor)\n",
    "    graph.add_edges_from([(target_node[i], factor) for i in range(sudoku_size)])\n",
    "# print(\"=\"*50)\n",
    "#block constraint\n",
    "for block_y in range(root_sudoku_size):\n",
    "    for block_x in range(root_sudoku_size):\n",
    "        target_node = [\"{}_{}\".format(y, x) for y in range(block_y * root_sudoku_size, (block_y + 1) * root_sudoku_size) for x in range(block_x * root_sudoku_size, (block_x + 1) * root_sudoku_size)]\n",
    "        # print(target_node)\n",
    "        factor = DiscreteFactor(target_node, number_of_random_variable_state, factor_prob)\n",
    "        graph.add_factors(factor)\n",
    "        graph.add_edges_from([(target_node[i], factor) for i in range(sudoku_size)])\n",
    "graph.check_model()\n"
   ]
  },
  {
   "cell_type": "code",
   "execution_count": 53,
   "metadata": {},
   "outputs": [],
   "source": [
    "from pgmpy.inference import BeliefPropagation\n",
    "bp = BeliefPropagation(graph)\n",
    "bp.calibrate()\n",
    "evidence = {}\n",
    "variable = []\n",
    "for y in range(sudoku_size):\n",
    "    for x in range(sudoku_size):\n",
    "        num = sudoku.init[y][x]\n",
    "        if num != 0:\n",
    "            evidence[\"{}_{}\".format(y, x)] = num\n",
    "        else:\n",
    "            variable.append(\"{}_{}\".format(y, x))\n",
    "bp.map_query(variable, evidence)"
   ]
  },
  {
   "cell_type": "code",
   "execution_count": 56,
   "metadata": {},
   "outputs": [
    {
     "data": {
      "text/plain": [
       "True"
      ]
     },
     "execution_count": 56,
     "metadata": {},
     "output_type": "execute_result"
    }
   ],
   "source": [
    "for y in range(sudoku_size):\n",
    "    for x in range(sudoku_size):\n",
    "        if sudoku.init[y][x] == 0:\n",
    "            target_node = \"{}_{}\".format(y, x)\n",
    "            factor = DiscreteFactor([target_node], [sudoku_size], np.ones(sudoku_size) / sudoku_size)\n",
    "            graph.add_factors(factor)\n",
    "            graph.add_edges_from([(target_node, factor)])\n",
    "        else:\n",
    "            target_node = \"{}_{}\".format(y, x)\n",
    "            prob = np.zeros(sudoku_size)\n",
    "            prob[sudoku.init[y][x] - 1] += 1.0\n",
    "            factor = DiscreteFactor([target_node], [sudoku_size], prob)\n",
    "            graph.add_factors(factor)\n",
    "            graph.add_edges_from([(target_node, factor)])\n",
    "graph.check_model()"
   ]
  },
  {
   "cell_type": "code",
   "execution_count": 57,
   "metadata": {},
   "outputs": [
    {
     "name": "stderr",
     "output_type": "stream",
     "text": [
      "/home/takeshi/.pyenv/versions/3.9.4/envs/snn_bayes/lib/python3.9/site-packages/pgmpy/factors/discrete/DiscreteFactor.py:796: RuntimeWarning: invalid value encountered in true_divide\n",
      "  phi.values = phi.values / phi1.values\n"
     ]
    }
   ],
   "source": [
    "from pgmpy.inference import BeliefPropagation\n",
    "bp = BeliefPropagation(graph)\n",
    "bp.calibrate()"
   ]
  },
  {
   "cell_type": "code",
   "execution_count": 58,
   "metadata": {},
   "outputs": [
    {
     "name": "stderr",
     "output_type": "stream",
     "text": [
      "/home/takeshi/.pyenv/versions/3.9.4/envs/snn_bayes/lib/python3.9/site-packages/pgmpy/factors/discrete/DiscreteFactor.py:796: RuntimeWarning: invalid value encountered in true_divide\n",
      "  phi.values = phi.values / phi1.values\n"
     ]
    }
   ],
   "source": [
    "bp.query([\"{}_{}\".format(y, x) for y in range(sudoku_size) for x in range(sudoku_size)])"
   ]
  },
  {
   "cell_type": "code",
   "execution_count": 11,
   "metadata": {},
   "outputs": [],
   "source": [
    "mm = graph.to_markov_model()"
   ]
  },
  {
   "cell_type": "code",
   "execution_count": 1,
   "metadata": {},
   "outputs": [
    {
     "name": "stderr",
     "output_type": "stream",
     "text": [
      "/home/takeshi/.pyenv/versions/3.9.4/envs/snn_bayes/lib/python3.9/site-packages/tqdm/auto.py:22: TqdmWarning: IProgress not found. Please update jupyter and ipywidgets. See https://ipywidgets.readthedocs.io/en/stable/user_install.html\n",
      "  from .autonotebook import tqdm as notebook_tqdm\n"
     ]
    },
    {
     "ename": "NameError",
     "evalue": "name 'mm' is not defined",
     "output_type": "error",
     "traceback": [
      "\u001b[0;31m---------------------------------------------------------------------------\u001b[0m",
      "\u001b[0;31mNameError\u001b[0m                                 Traceback (most recent call last)",
      "\u001b[1;32m/home/takeshi/master_pj/CspSolverBySnnAndBayesian/bayesian/solver.ipynb Cell 7'\u001b[0m in \u001b[0;36m<cell line: 2>\u001b[0;34m()\u001b[0m\n\u001b[1;32m      <a href='vscode-notebook-cell:/home/takeshi/master_pj/CspSolverBySnnAndBayesian/bayesian/solver.ipynb#ch0000006?line=0'>1</a>\u001b[0m \u001b[39mfrom\u001b[39;00m \u001b[39mpgmpy\u001b[39;00m\u001b[39m.\u001b[39;00m\u001b[39mreadwrite\u001b[39;00m \u001b[39mimport\u001b[39;00m UAIWriter\n\u001b[0;32m----> <a href='vscode-notebook-cell:/home/takeshi/master_pj/CspSolverBySnnAndBayesian/bayesian/solver.ipynb#ch0000006?line=1'>2</a>\u001b[0m writer \u001b[39m=\u001b[39m UAIWriter(mm)\n\u001b[1;32m      <a href='vscode-notebook-cell:/home/takeshi/master_pj/CspSolverBySnnAndBayesian/bayesian/solver.ipynb#ch0000006?line=2'>3</a>\u001b[0m writer\u001b[39m.\u001b[39mwrite_uai(\u001b[39m'\u001b[39m\u001b[39mmodels/4_4_sudoku_[[4, 0, 0, 0], [0, 0, 0, 0], [1, 0, 4, 0], [0, 0, 0, 2]]_markov.xml\u001b[39m\u001b[39m'\u001b[39m)\n",
      "\u001b[0;31mNameError\u001b[0m: name 'mm' is not defined"
     ]
    }
   ],
   "source": [
    "from pgmpy.readwrite import UAIWriter\n",
    "writer = UAIWriter(mm)\n",
    "writer.write_uai('models/4_4_sudoku_[[4, 0, 0, 0], [0, 0, 0, 0], [1, 0, 4, 0], [0, 0, 0, 2]]_markov.xml')"
   ]
  },
  {
   "cell_type": "code",
   "execution_count": 1,
   "metadata": {},
   "outputs": [
    {
     "name": "stderr",
     "output_type": "stream",
     "text": [
      "/home/takeshi/.pyenv/versions/3.9.4/envs/snn_bayes/lib/python3.9/site-packages/tqdm/auto.py:22: TqdmWarning: IProgress not found. Please update jupyter and ipywidgets. See https://ipywidgets.readthedocs.io/en/stable/user_install.html\n",
      "  from .autonotebook import tqdm as notebook_tqdm\n"
     ]
    }
   ],
   "source": [
    "from pgmpy.readwrite import UAIReader\n",
    "reader = UAIReader('models/4_4_sudoku_[[4, 0, 0, 0], [0, 0, 0, 0], [1, 0, 4, 0], [0, 0, 0, 2]]_markov.xml')\n",
    "mm = reader.get_model()"
   ]
  },
  {
   "cell_type": "code",
   "execution_count": 4,
   "metadata": {},
   "outputs": [
    {
     "ename": "MemoryError",
     "evalue": "Unable to allocate 1.00 PiB for an array with shape (140737488355328,) and data type float64",
     "output_type": "error",
     "traceback": [
      "\u001b[0;31m---------------------------------------------------------------------------\u001b[0m",
      "\u001b[0;31mMemoryError\u001b[0m                               Traceback (most recent call last)",
      "\u001b[1;32m/home/takeshi/master_pj/CspSolverBySnnAndBayesian/bayesian/solver.ipynb Cell 9'\u001b[0m in \u001b[0;36m<cell line: 2>\u001b[0;34m()\u001b[0m\n\u001b[1;32m      <a href='vscode-notebook-cell:/home/takeshi/master_pj/CspSolverBySnnAndBayesian/bayesian/solver.ipynb#ch0000010?line=0'>1</a>\u001b[0m \u001b[39mfrom\u001b[39;00m \u001b[39mpgmpy\u001b[39;00m\u001b[39m.\u001b[39;00m\u001b[39minference\u001b[39;00m \u001b[39mimport\u001b[39;00m BeliefPropagation\n\u001b[0;32m----> <a href='vscode-notebook-cell:/home/takeshi/master_pj/CspSolverBySnnAndBayesian/bayesian/solver.ipynb#ch0000010?line=1'>2</a>\u001b[0m infer \u001b[39m=\u001b[39m BeliefPropagation(mm)\n",
      "File \u001b[0;32m~/.pyenv/versions/3.9.4/envs/snn_bayes/lib/python3.9/site-packages/pgmpy/inference/ExactInference.py:592\u001b[0m, in \u001b[0;36mBeliefPropagation.__init__\u001b[0;34m(self, model)\u001b[0m\n\u001b[1;32m    <a href='file:///~/.pyenv/versions/3.9.4/envs/snn_bayes/lib/python3.9/site-packages/pgmpy/inference/ExactInference.py?line=588'>589</a>\u001b[0m \u001b[39msuper\u001b[39m(BeliefPropagation, \u001b[39mself\u001b[39m)\u001b[39m.\u001b[39m\u001b[39m__init__\u001b[39m(model)\n\u001b[1;32m    <a href='file:///~/.pyenv/versions/3.9.4/envs/snn_bayes/lib/python3.9/site-packages/pgmpy/inference/ExactInference.py?line=590'>591</a>\u001b[0m \u001b[39mif\u001b[39;00m \u001b[39mnot\u001b[39;00m \u001b[39misinstance\u001b[39m(model, JunctionTree):\n\u001b[0;32m--> <a href='file:///~/.pyenv/versions/3.9.4/envs/snn_bayes/lib/python3.9/site-packages/pgmpy/inference/ExactInference.py?line=591'>592</a>\u001b[0m     \u001b[39mself\u001b[39m\u001b[39m.\u001b[39mjunction_tree \u001b[39m=\u001b[39m model\u001b[39m.\u001b[39;49mto_junction_tree()\n\u001b[1;32m    <a href='file:///~/.pyenv/versions/3.9.4/envs/snn_bayes/lib/python3.9/site-packages/pgmpy/inference/ExactInference.py?line=592'>593</a>\u001b[0m \u001b[39melse\u001b[39;00m:\n\u001b[1;32m    <a href='file:///~/.pyenv/versions/3.9.4/envs/snn_bayes/lib/python3.9/site-packages/pgmpy/inference/ExactInference.py?line=593'>594</a>\u001b[0m     \u001b[39mself\u001b[39m\u001b[39m.\u001b[39mjunction_tree \u001b[39m=\u001b[39m copy\u001b[39m.\u001b[39mdeepcopy(model)\n",
      "File \u001b[0;32m~/.pyenv/versions/3.9.4/envs/snn_bayes/lib/python3.9/site-packages/pgmpy/models/MarkovNetwork.py:548\u001b[0m, in \u001b[0;36mMarkovNetwork.to_junction_tree\u001b[0;34m(self)\u001b[0m\n\u001b[1;32m    <a href='file:///~/.pyenv/versions/3.9.4/envs/snn_bayes/lib/python3.9/site-packages/pgmpy/models/MarkovNetwork.py?line=544'>545</a>\u001b[0m \u001b[39m# To compute clique potential, initially set it as unity factor\u001b[39;00m\n\u001b[1;32m    <a href='file:///~/.pyenv/versions/3.9.4/envs/snn_bayes/lib/python3.9/site-packages/pgmpy/models/MarkovNetwork.py?line=545'>546</a>\u001b[0m var_card \u001b[39m=\u001b[39m [\u001b[39mself\u001b[39m\u001b[39m.\u001b[39mget_cardinality()[x] \u001b[39mfor\u001b[39;00m x \u001b[39min\u001b[39;00m node]\n\u001b[1;32m    <a href='file:///~/.pyenv/versions/3.9.4/envs/snn_bayes/lib/python3.9/site-packages/pgmpy/models/MarkovNetwork.py?line=546'>547</a>\u001b[0m clique_potential \u001b[39m=\u001b[39m DiscreteFactor(\n\u001b[0;32m--> <a href='file:///~/.pyenv/versions/3.9.4/envs/snn_bayes/lib/python3.9/site-packages/pgmpy/models/MarkovNetwork.py?line=547'>548</a>\u001b[0m     node, var_card, np\u001b[39m.\u001b[39;49mones(np\u001b[39m.\u001b[39;49mproduct(var_card))\n\u001b[1;32m    <a href='file:///~/.pyenv/versions/3.9.4/envs/snn_bayes/lib/python3.9/site-packages/pgmpy/models/MarkovNetwork.py?line=548'>549</a>\u001b[0m )\n\u001b[1;32m    <a href='file:///~/.pyenv/versions/3.9.4/envs/snn_bayes/lib/python3.9/site-packages/pgmpy/models/MarkovNetwork.py?line=549'>550</a>\u001b[0m \u001b[39m# multiply it with the factors associated with the variables present\u001b[39;00m\n\u001b[1;32m    <a href='file:///~/.pyenv/versions/3.9.4/envs/snn_bayes/lib/python3.9/site-packages/pgmpy/models/MarkovNetwork.py?line=550'>551</a>\u001b[0m \u001b[39m# in the clique (or node)\u001b[39;00m\n\u001b[1;32m    <a href='file:///~/.pyenv/versions/3.9.4/envs/snn_bayes/lib/python3.9/site-packages/pgmpy/models/MarkovNetwork.py?line=551'>552</a>\u001b[0m \u001b[39m# Checking if there's clique_factors, to handle the case when clique_factors\u001b[39;00m\n\u001b[1;32m    <a href='file:///~/.pyenv/versions/3.9.4/envs/snn_bayes/lib/python3.9/site-packages/pgmpy/models/MarkovNetwork.py?line=552'>553</a>\u001b[0m \u001b[39m# is empty, otherwise factor_product with throw an error [ref #889]\u001b[39;00m\n\u001b[1;32m    <a href='file:///~/.pyenv/versions/3.9.4/envs/snn_bayes/lib/python3.9/site-packages/pgmpy/models/MarkovNetwork.py?line=553'>554</a>\u001b[0m \u001b[39mif\u001b[39;00m clique_factors:\n",
      "File \u001b[0;32m~/.pyenv/versions/3.9.4/envs/snn_bayes/lib/python3.9/site-packages/numpy/core/numeric.py:204\u001b[0m, in \u001b[0;36mones\u001b[0;34m(shape, dtype, order, like)\u001b[0m\n\u001b[1;32m    <a href='file:///~/.pyenv/versions/3.9.4/envs/snn_bayes/lib/python3.9/site-packages/numpy/core/numeric.py?line=200'>201</a>\u001b[0m \u001b[39mif\u001b[39;00m like \u001b[39mis\u001b[39;00m \u001b[39mnot\u001b[39;00m \u001b[39mNone\u001b[39;00m:\n\u001b[1;32m    <a href='file:///~/.pyenv/versions/3.9.4/envs/snn_bayes/lib/python3.9/site-packages/numpy/core/numeric.py?line=201'>202</a>\u001b[0m     \u001b[39mreturn\u001b[39;00m _ones_with_like(shape, dtype\u001b[39m=\u001b[39mdtype, order\u001b[39m=\u001b[39morder, like\u001b[39m=\u001b[39mlike)\n\u001b[0;32m--> <a href='file:///~/.pyenv/versions/3.9.4/envs/snn_bayes/lib/python3.9/site-packages/numpy/core/numeric.py?line=203'>204</a>\u001b[0m a \u001b[39m=\u001b[39m empty(shape, dtype, order)\n\u001b[1;32m    <a href='file:///~/.pyenv/versions/3.9.4/envs/snn_bayes/lib/python3.9/site-packages/numpy/core/numeric.py?line=204'>205</a>\u001b[0m multiarray\u001b[39m.\u001b[39mcopyto(a, \u001b[39m1\u001b[39m, casting\u001b[39m=\u001b[39m\u001b[39m'\u001b[39m\u001b[39munsafe\u001b[39m\u001b[39m'\u001b[39m)\n\u001b[1;32m    <a href='file:///~/.pyenv/versions/3.9.4/envs/snn_bayes/lib/python3.9/site-packages/numpy/core/numeric.py?line=205'>206</a>\u001b[0m \u001b[39mreturn\u001b[39;00m a\n",
      "\u001b[0;31mMemoryError\u001b[0m: Unable to allocate 1.00 PiB for an array with shape (140737488355328,) and data type float64"
     ]
    }
   ],
   "source": [
    "from pgmpy.inference import BeliefPropagation\n",
    "infer = BeliefPropagation(mm)"
   ]
  },
  {
   "cell_type": "code",
   "execution_count": 2,
   "metadata": {},
   "outputs": [
    {
     "name": "stderr",
     "output_type": "stream",
     "text": [
      "104220955it [1:45:35, 16451.23it/s]/s]\n",
      "  0%|          | 0/64 [1:45:35<?, ?it/s]\n"
     ]
    },
    {
     "ename": "KeyboardInterrupt",
     "evalue": "",
     "output_type": "error",
     "traceback": [
      "\u001b[0;31m---------------------------------------------------------------------------\u001b[0m",
      "\u001b[0;31mKeyboardInterrupt\u001b[0m                         Traceback (most recent call last)",
      "\u001b[1;32m/home/takeshi/master_pj/CspSolverBySnnAndBayesian/bayesian/solver.ipynb Cell 10'\u001b[0m in \u001b[0;36m<cell line: 2>\u001b[0;34m()\u001b[0m\n\u001b[1;32m      <a href='vscode-notebook-cell:/home/takeshi/master_pj/CspSolverBySnnAndBayesian/bayesian/solver.ipynb#ch0000007?line=0'>1</a>\u001b[0m \u001b[39mfrom\u001b[39;00m \u001b[39mpgmpy\u001b[39;00m\u001b[39m.\u001b[39;00m\u001b[39msampling\u001b[39;00m \u001b[39mimport\u001b[39;00m GibbsSampling\n\u001b[0;32m----> <a href='vscode-notebook-cell:/home/takeshi/master_pj/CspSolverBySnnAndBayesian/bayesian/solver.ipynb#ch0000007?line=1'>2</a>\u001b[0m gibbs_chain \u001b[39m=\u001b[39m GibbsSampling(mm)\n",
      "File \u001b[0;32m~/.pyenv/versions/3.9.4/envs/snn_bayes/lib/python3.9/site-packages/pgmpy/sampling/Sampling.py:408\u001b[0m, in \u001b[0;36mGibbsSampling.__init__\u001b[0;34m(self, model)\u001b[0m\n\u001b[1;32m    <a href='file:///~/.pyenv/versions/3.9.4/envs/snn_bayes/lib/python3.9/site-packages/pgmpy/sampling/Sampling.py?line=405'>406</a>\u001b[0m     \u001b[39mself\u001b[39m\u001b[39m.\u001b[39m_get_kernel_from_bayesian_model(model)\n\u001b[1;32m    <a href='file:///~/.pyenv/versions/3.9.4/envs/snn_bayes/lib/python3.9/site-packages/pgmpy/sampling/Sampling.py?line=406'>407</a>\u001b[0m \u001b[39melif\u001b[39;00m \u001b[39misinstance\u001b[39m(model, MarkovNetwork):\n\u001b[0;32m--> <a href='file:///~/.pyenv/versions/3.9.4/envs/snn_bayes/lib/python3.9/site-packages/pgmpy/sampling/Sampling.py?line=407'>408</a>\u001b[0m     \u001b[39mself\u001b[39;49m\u001b[39m.\u001b[39;49m_get_kernel_from_markov_model(model)\n",
      "File \u001b[0;32m~/.pyenv/versions/3.9.4/envs/snn_bayes/lib/python3.9/site-packages/pgmpy/sampling/Sampling.py:481\u001b[0m, in \u001b[0;36mGibbsSampling._get_kernel_from_markov_model\u001b[0;34m(self, model)\u001b[0m\n\u001b[1;32m    <a href='file:///~/.pyenv/versions/3.9.4/envs/snn_bayes/lib/python3.9/site-packages/pgmpy/sampling/Sampling.py?line=474'>475</a>\u001b[0m \u001b[39mfor\u001b[39;00m tup \u001b[39min\u001b[39;00m tqdm(itertools\u001b[39m.\u001b[39mproduct(\u001b[39m*\u001b[39m[\u001b[39mrange\u001b[39m(card) \u001b[39mfor\u001b[39;00m card \u001b[39min\u001b[39;00m other_cards])):\n\u001b[1;32m    <a href='file:///~/.pyenv/versions/3.9.4/envs/snn_bayes/lib/python3.9/site-packages/pgmpy/sampling/Sampling.py?line=475'>476</a>\u001b[0m     states \u001b[39m=\u001b[39m [\n\u001b[1;32m    <a href='file:///~/.pyenv/versions/3.9.4/envs/snn_bayes/lib/python3.9/site-packages/pgmpy/sampling/Sampling.py?line=476'>477</a>\u001b[0m         State(first_var, s)\n\u001b[1;32m    <a href='file:///~/.pyenv/versions/3.9.4/envs/snn_bayes/lib/python3.9/site-packages/pgmpy/sampling/Sampling.py?line=477'>478</a>\u001b[0m         \u001b[39mfor\u001b[39;00m first_var, s \u001b[39min\u001b[39;00m \u001b[39mzip\u001b[39m(other_vars, tup)\n\u001b[1;32m    <a href='file:///~/.pyenv/versions/3.9.4/envs/snn_bayes/lib/python3.9/site-packages/pgmpy/sampling/Sampling.py?line=478'>479</a>\u001b[0m         \u001b[39mif\u001b[39;00m first_var \u001b[39min\u001b[39;00m scope\n\u001b[1;32m    <a href='file:///~/.pyenv/versions/3.9.4/envs/snn_bayes/lib/python3.9/site-packages/pgmpy/sampling/Sampling.py?line=479'>480</a>\u001b[0m     ]\n\u001b[0;32m--> <a href='file:///~/.pyenv/versions/3.9.4/envs/snn_bayes/lib/python3.9/site-packages/pgmpy/sampling/Sampling.py?line=480'>481</a>\u001b[0m     reduced_factor \u001b[39m=\u001b[39m factor\u001b[39m.\u001b[39;49mreduce(states, inplace\u001b[39m=\u001b[39;49m\u001b[39mFalse\u001b[39;49;00m)\n\u001b[1;32m    <a href='file:///~/.pyenv/versions/3.9.4/envs/snn_bayes/lib/python3.9/site-packages/pgmpy/sampling/Sampling.py?line=481'>482</a>\u001b[0m     kernel[tup] \u001b[39m=\u001b[39m reduced_factor\u001b[39m.\u001b[39mvalues \u001b[39m/\u001b[39m \\\n\u001b[1;32m    <a href='file:///~/.pyenv/versions/3.9.4/envs/snn_bayes/lib/python3.9/site-packages/pgmpy/sampling/Sampling.py?line=482'>483</a>\u001b[0m         \u001b[39msum\u001b[39m(reduced_factor\u001b[39m.\u001b[39mvalues)\n\u001b[1;32m    <a href='file:///~/.pyenv/versions/3.9.4/envs/snn_bayes/lib/python3.9/site-packages/pgmpy/sampling/Sampling.py?line=483'>484</a>\u001b[0m \u001b[39mself\u001b[39m\u001b[39m.\u001b[39mtransition_models[var] \u001b[39m=\u001b[39m kernel\n",
      "File \u001b[0;32m~/.pyenv/versions/3.9.4/envs/snn_bayes/lib/python3.9/site-packages/pgmpy/factors/discrete/DiscreteFactor.py:525\u001b[0m, in \u001b[0;36mDiscreteFactor.reduce\u001b[0;34m(self, values, inplace, show_warnings)\u001b[0m\n\u001b[1;32m    <a href='file:///~/.pyenv/versions/3.9.4/envs/snn_bayes/lib/python3.9/site-packages/pgmpy/factors/discrete/DiscreteFactor.py?line=521'>522</a>\u001b[0m     \u001b[39mif\u001b[39;00m var \u001b[39mnot\u001b[39;00m \u001b[39min\u001b[39;00m \u001b[39mself\u001b[39m\u001b[39m.\u001b[39mvariables:\n\u001b[1;32m    <a href='file:///~/.pyenv/versions/3.9.4/envs/snn_bayes/lib/python3.9/site-packages/pgmpy/factors/discrete/DiscreteFactor.py?line=522'>523</a>\u001b[0m         \u001b[39mraise\u001b[39;00m \u001b[39mValueError\u001b[39;00m(\u001b[39mf\u001b[39m\u001b[39m\"\u001b[39m\u001b[39mThe variable: \u001b[39m\u001b[39m{\u001b[39;00mvar\u001b[39m}\u001b[39;00m\u001b[39m is not in the factor\u001b[39m\u001b[39m\"\u001b[39m)\n\u001b[0;32m--> <a href='file:///~/.pyenv/versions/3.9.4/envs/snn_bayes/lib/python3.9/site-packages/pgmpy/factors/discrete/DiscreteFactor.py?line=524'>525</a>\u001b[0m phi \u001b[39m=\u001b[39m \u001b[39mself\u001b[39m \u001b[39mif\u001b[39;00m inplace \u001b[39melse\u001b[39;00m \u001b[39mself\u001b[39;49m\u001b[39m.\u001b[39;49mcopy()\n\u001b[1;32m    <a href='file:///~/.pyenv/versions/3.9.4/envs/snn_bayes/lib/python3.9/site-packages/pgmpy/factors/discrete/DiscreteFactor.py?line=526'>527</a>\u001b[0m \u001b[39m# Convert the state names to state number. If state name not found treat them as\u001b[39;00m\n\u001b[1;32m    <a href='file:///~/.pyenv/versions/3.9.4/envs/snn_bayes/lib/python3.9/site-packages/pgmpy/factors/discrete/DiscreteFactor.py?line=527'>528</a>\u001b[0m \u001b[39m# state numbers.\u001b[39;00m\n\u001b[1;32m    <a href='file:///~/.pyenv/versions/3.9.4/envs/snn_bayes/lib/python3.9/site-packages/pgmpy/factors/discrete/DiscreteFactor.py?line=528'>529</a>\u001b[0m \u001b[39mtry\u001b[39;00m:\n",
      "File \u001b[0;32m~/.pyenv/versions/3.9.4/envs/snn_bayes/lib/python3.9/site-packages/pgmpy/factors/discrete/DiscreteFactor.py:870\u001b[0m, in \u001b[0;36mDiscreteFactor.copy\u001b[0;34m(self)\u001b[0m\n\u001b[1;32m    <a href='file:///~/.pyenv/versions/3.9.4/envs/snn_bayes/lib/python3.9/site-packages/pgmpy/factors/discrete/DiscreteFactor.py?line=841'>842</a>\u001b[0m \u001b[39m\"\"\"\u001b[39;00m\n\u001b[1;32m    <a href='file:///~/.pyenv/versions/3.9.4/envs/snn_bayes/lib/python3.9/site-packages/pgmpy/factors/discrete/DiscreteFactor.py?line=842'>843</a>\u001b[0m \u001b[39mReturns a copy of the factor.\u001b[39;00m\n\u001b[1;32m    <a href='file:///~/.pyenv/versions/3.9.4/envs/snn_bayes/lib/python3.9/site-packages/pgmpy/factors/discrete/DiscreteFactor.py?line=843'>844</a>\u001b[0m \n\u001b[0;32m   (...)\u001b[0m\n\u001b[1;32m    <a href='file:///~/.pyenv/versions/3.9.4/envs/snn_bayes/lib/python3.9/site-packages/pgmpy/factors/discrete/DiscreteFactor.py?line=865'>866</a>\u001b[0m \u001b[39m        [15, 16, 17]]])\u001b[39;00m\n\u001b[1;32m    <a href='file:///~/.pyenv/versions/3.9.4/envs/snn_bayes/lib/python3.9/site-packages/pgmpy/factors/discrete/DiscreteFactor.py?line=866'>867</a>\u001b[0m \u001b[39m\"\"\"\u001b[39;00m\n\u001b[1;32m    <a href='file:///~/.pyenv/versions/3.9.4/envs/snn_bayes/lib/python3.9/site-packages/pgmpy/factors/discrete/DiscreteFactor.py?line=867'>868</a>\u001b[0m \u001b[39m# not creating a new copy of self.values and self.cardinality\u001b[39;00m\n\u001b[1;32m    <a href='file:///~/.pyenv/versions/3.9.4/envs/snn_bayes/lib/python3.9/site-packages/pgmpy/factors/discrete/DiscreteFactor.py?line=868'>869</a>\u001b[0m \u001b[39m# because __init__ methods does that.\u001b[39;00m\n\u001b[0;32m--> <a href='file:///~/.pyenv/versions/3.9.4/envs/snn_bayes/lib/python3.9/site-packages/pgmpy/factors/discrete/DiscreteFactor.py?line=869'>870</a>\u001b[0m \u001b[39mreturn\u001b[39;00m DiscreteFactor(\n\u001b[1;32m    <a href='file:///~/.pyenv/versions/3.9.4/envs/snn_bayes/lib/python3.9/site-packages/pgmpy/factors/discrete/DiscreteFactor.py?line=870'>871</a>\u001b[0m     \u001b[39mself\u001b[39;49m\u001b[39m.\u001b[39;49mscope(),\n\u001b[1;32m    <a href='file:///~/.pyenv/versions/3.9.4/envs/snn_bayes/lib/python3.9/site-packages/pgmpy/factors/discrete/DiscreteFactor.py?line=871'>872</a>\u001b[0m     \u001b[39mself\u001b[39;49m\u001b[39m.\u001b[39;49mcardinality,\n\u001b[1;32m    <a href='file:///~/.pyenv/versions/3.9.4/envs/snn_bayes/lib/python3.9/site-packages/pgmpy/factors/discrete/DiscreteFactor.py?line=872'>873</a>\u001b[0m     \u001b[39mself\u001b[39;49m\u001b[39m.\u001b[39;49mvalues,\n\u001b[1;32m    <a href='file:///~/.pyenv/versions/3.9.4/envs/snn_bayes/lib/python3.9/site-packages/pgmpy/factors/discrete/DiscreteFactor.py?line=873'>874</a>\u001b[0m     state_names\u001b[39m=\u001b[39;49m\u001b[39mself\u001b[39;49m\u001b[39m.\u001b[39;49mstate_names\u001b[39m.\u001b[39;49mcopy(),\n\u001b[1;32m    <a href='file:///~/.pyenv/versions/3.9.4/envs/snn_bayes/lib/python3.9/site-packages/pgmpy/factors/discrete/DiscreteFactor.py?line=874'>875</a>\u001b[0m )\n",
      "File \u001b[0;32m~/.pyenv/versions/3.9.4/envs/snn_bayes/lib/python3.9/site-packages/pgmpy/factors/discrete/DiscreteFactor.py:106\u001b[0m, in \u001b[0;36mDiscreteFactor.__init__\u001b[0;34m(self, variables, cardinality, values, state_names)\u001b[0m\n\u001b[1;32m    <a href='file:///~/.pyenv/versions/3.9.4/envs/snn_bayes/lib/python3.9/site-packages/pgmpy/factors/discrete/DiscreteFactor.py?line=102'>103</a>\u001b[0m \u001b[39mself\u001b[39m\u001b[39m.\u001b[39mvalues \u001b[39m=\u001b[39m values\u001b[39m.\u001b[39mreshape(\u001b[39mself\u001b[39m\u001b[39m.\u001b[39mcardinality)\n\u001b[1;32m    <a href='file:///~/.pyenv/versions/3.9.4/envs/snn_bayes/lib/python3.9/site-packages/pgmpy/factors/discrete/DiscreteFactor.py?line=104'>105</a>\u001b[0m \u001b[39m# Set the state names\u001b[39;00m\n\u001b[0;32m--> <a href='file:///~/.pyenv/versions/3.9.4/envs/snn_bayes/lib/python3.9/site-packages/pgmpy/factors/discrete/DiscreteFactor.py?line=105'>106</a>\u001b[0m \u001b[39msuper\u001b[39;49m(DiscreteFactor, \u001b[39mself\u001b[39;49m)\u001b[39m.\u001b[39;49mstore_state_names(\n\u001b[1;32m    <a href='file:///~/.pyenv/versions/3.9.4/envs/snn_bayes/lib/python3.9/site-packages/pgmpy/factors/discrete/DiscreteFactor.py?line=106'>107</a>\u001b[0m     variables, cardinality, state_names\n\u001b[1;32m    <a href='file:///~/.pyenv/versions/3.9.4/envs/snn_bayes/lib/python3.9/site-packages/pgmpy/factors/discrete/DiscreteFactor.py?line=107'>108</a>\u001b[0m )\n",
      "\u001b[0;31mKeyboardInterrupt\u001b[0m: "
     ]
    }
   ],
   "source": [
    "from pgmpy.sampling import GibbsSampling\n",
    "gibbs_chain = GibbsSampling(mm)"
   ]
  },
  {
   "cell_type": "code",
   "execution_count": null,
   "metadata": {},
   "outputs": [],
   "source": [
    "sample = gibbs_chain.sample(size=100, return_tupe='dataframe')"
   ]
  },
  {
   "cell_type": "code",
   "execution_count": null,
   "metadata": {},
   "outputs": [],
   "source": []
  }
 ],
 "metadata": {
  "interpreter": {
   "hash": "2b05cdc95f6b81e3ee1f534c0227659d53a645a187658cf85584362b41759636"
  },
  "kernelspec": {
   "display_name": "Python 3.8.2 64-bit ('bayesian')",
   "language": "python",
   "name": "python3"
  },
  "language_info": {
   "codemirror_mode": {
    "name": "ipython",
    "version": 3
   },
   "file_extension": ".py",
   "mimetype": "text/x-python",
   "name": "python",
   "nbconvert_exporter": "python",
   "pygments_lexer": "ipython3",
   "version": "3.9.4"
  },
  "orig_nbformat": 4
 },
 "nbformat": 4,
 "nbformat_minor": 2
}
