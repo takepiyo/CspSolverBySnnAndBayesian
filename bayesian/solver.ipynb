{
 "cells": [
  {
   "cell_type": "code",
   "execution_count": 1,
   "metadata": {},
   "outputs": [
    {
     "name": "stderr",
     "output_type": "stream",
     "text": [
      "/home/takeshi/.pyenv/versions/3.9.4/envs/snn_bayes/lib/python3.9/site-packages/tqdm/auto.py:22: TqdmWarning: IProgress not found. Please update jupyter and ipywidgets. See https://ipywidgets.readthedocs.io/en/stable/user_install.html\n",
      "  from .autonotebook import tqdm as notebook_tqdm\n",
      "/home/takeshi/.pyenv/versions/3.9.4/envs/snn_bayes/lib/python3.9/site-packages/torch/cuda/__init__.py:82: UserWarning: CUDA initialization: Unexpected error from cudaGetDeviceCount(). Did you run some cuda functions before calling NumCudaDevices() that might have already set an error? Error 804: forward compatibility was attempted on non supported HW (Triggered internally at  ../c10/cuda/CUDAFunctions.cpp:112.)\n",
      "  return torch._C._cuda_getDeviceCount() > 0\n"
     ]
    }
   ],
   "source": [
    "from pgmpy.models import FactorGraph\n",
    "from pgmpy.factors.discrete import DiscreteFactor\n",
    "from pgmpy.inference.ExactInference import BeliefPropagation\n",
    "import numpy as np"
   ]
  },
  {
   "cell_type": "code",
   "execution_count": 2,
   "metadata": {},
   "outputs": [],
   "source": [
    "import math\n",
    "import sys\n",
    "sys.path.append(\"../CSP/\")\n",
    "from sudoku import Sudoku\n",
    "\n",
    "sudoku = Sudoku.make_sudoku()"
   ]
  },
  {
   "cell_type": "code",
   "execution_count": 3,
   "metadata": {},
   "outputs": [],
   "source": [
    "sudoku_size = 9\n",
    "root_sudoku_size = int(math.sqrt(sudoku_size))\n",
    "pow_two_mask_except_zero = [True if (i & (i - 1)) == 0 and i != 0 else False for i in range(2**sudoku_size)] #True if 1 of K representation is valid. False in Otherwise\n",
    "enforce_rate = 0.99\n",
    "factor_prob = np.where(pow_two_mask_except_zero, enforce_rate, 1 - enforce_rate)\n",
    "number_of_random_variable_state = [2 for _ in range(sudoku_size)]"
   ]
  },
  {
   "cell_type": "code",
   "execution_count": 5,
   "metadata": {},
   "outputs": [
    {
     "data": {
      "text/plain": [
       "True"
      ]
     },
     "execution_count": 5,
     "metadata": {},
     "output_type": "execute_result"
    }
   ],
   "source": [
    "graph = FactorGraph()\n",
    "graph.add_nodes_from([\"{}_{}_{}\".format(y, x, num) for y in range(sudoku_size) for x in range(sudoku_size) for num in range(sudoku_size)])\n",
    "# print(\"=\"*50)\n",
    "#each cell constraint\n",
    "for y in range(sudoku_size):\n",
    "    for x in range(sudoku_size):\n",
    "        target_node = [\"{}_{}_{}\".format(y, x, num) for num in range(sudoku_size)]\n",
    "        # print(target_node)\n",
    "        factor = DiscreteFactor(target_node, number_of_random_variable_state, factor_prob)\n",
    "        graph.add_factors(factor)\n",
    "        graph.add_edges_from([(target_node[i], factor) for i in range(sudoku_size)])\n",
    "# print(\"=\"*50)\n",
    "#column constraint\n",
    "for y in range(sudoku_size):\n",
    "    for num in range(sudoku_size):\n",
    "        target_node = [\"{}_{}_{}\".format(y, x, num) for x in range(sudoku_size)]\n",
    "        # print(target_node)\n",
    "        factor = DiscreteFactor(target_node, number_of_random_variable_state, factor_prob)\n",
    "        graph.add_factors(factor)\n",
    "        graph.add_edges_from([(target_node[i], factor) for i in range(sudoku_size)])\n",
    "# print(\"=\"*50)\n",
    "#row constraint\n",
    "for x in range(sudoku_size):\n",
    "    for num in range(sudoku_size):\n",
    "        target_node = [\"{}_{}_{}\".format(y, x, num) for y in range(sudoku_size)]\n",
    "        # print(target_node)\n",
    "        factor = DiscreteFactor(target_node, number_of_random_variable_state, factor_prob)\n",
    "        graph.add_factors(factor)\n",
    "        graph.add_edges_from([(target_node[i], factor) for i in range(sudoku_size)])\n",
    "# print(\"=\"*50)\n",
    "#block constraint\n",
    "for block_y in range(root_sudoku_size):\n",
    "    for block_x in range(root_sudoku_size):\n",
    "        for num in range(sudoku_size):\n",
    "            target_node = [\"{}_{}_{}\".format(y, x, num) for y in range(block_y * root_sudoku_size, (block_y + 1) * root_sudoku_size) for x in range(block_x * root_sudoku_size, (block_x + 1) * root_sudoku_size)]\n",
    "            # print(target_node)\n",
    "            factor = DiscreteFactor(target_node, number_of_random_variable_state, factor_prob)\n",
    "            graph.add_factors(factor)\n",
    "            graph.add_edges_from([(target_node[i], factor) for i in range(sudoku_size)])\n",
    "graph.check_model()\n"
   ]
  },
  {
   "cell_type": "code",
   "execution_count": null,
   "metadata": {},
   "outputs": [],
   "source": [
    "for y in range(sudoku_size):\n",
    "    for x in range(sudoku_size):\n",
    "        if sudoku.init[y][x] == 0:\n",
    "            for num in range(sudoku_size):\n",
    "                target_node = \"{}_{}_{}\".format(y, x, num)\n",
    "                factor = DiscreteFactor([target_node], [2], [0.5, 0.5])\n",
    "                graph.add_factors(factor)\n",
    "                graph.add_edges_from([(target_node, factor)])\n",
    "        else:\n",
    "            for num in range(1, sudoku_size + 1):\n",
    "                target_node = \"{}_{}_{}\".format(y, x, num)\n",
    "                if sudoku.init[y][x] == num:\n",
    "                    factor = DiscreteFactor([target_node], [2], [0.0, 1.0])\n",
    "                else:\n",
    "                    factor = DiscreteFactor([target_node], [2], [1.0, 0.0])\n",
    "                graph.add_factors(factor)\n",
    "                graph.add_edges_from([(target_node, factor)])"
   ]
  },
  {
   "cell_type": "code",
   "execution_count": null,
   "metadata": {},
   "outputs": [],
   "source": []
  },
  {
   "cell_type": "code",
   "execution_count": 7,
   "metadata": {},
   "outputs": [],
   "source": [
    "mm = graph.to_markov_model()"
   ]
  },
  {
   "cell_type": "code",
   "execution_count": 13,
   "metadata": {},
   "outputs": [],
   "source": [
    "from pgmpy.readwrite import UAIWriter\n",
    "writer = UAIWriter(mm)\n",
    "writer.write_uai('models/9_9_sudoku_markov.xml')"
   ]
  },
  {
   "cell_type": "code",
   "execution_count": 16,
   "metadata": {},
   "outputs": [
    {
     "name": "stderr",
     "output_type": "stream",
     "text": [
      "/home/takeshi/.pyenv/versions/3.9.4/envs/snn_bayes/lib/python3.9/site-packages/pgmpy/models/MarkovNetwork.py:448: RuntimeWarning: invalid value encountered in long_scalars\n",
      "  S_by_C = {key: S[key] / C[key] for key in S}\n"
     ]
    },
    {
     "ename": "ValueError",
     "evalue": "maximum supported dimension for an ndarray is 32, found 48",
     "output_type": "error",
     "traceback": [
      "\u001b[0;31m---------------------------------------------------------------------------\u001b[0m",
      "\u001b[0;31mValueError\u001b[0m                                Traceback (most recent call last)",
      "\u001b[1;32m/home/takeshi/master_pj/CspSolverBySnnAndBayesian/bayesian/solver.ipynb Cell 9'\u001b[0m in \u001b[0;36m<cell line: 1>\u001b[0;34m()\u001b[0m\n\u001b[0;32m----> <a href='vscode-notebook-cell:/home/takeshi/master_pj/CspSolverBySnnAndBayesian/bayesian/solver.ipynb#ch0000017?line=0'>1</a>\u001b[0m bm \u001b[39m=\u001b[39m mm\u001b[39m.\u001b[39;49mto_bayesian_model()\n",
      "File \u001b[0;32m~/.pyenv/versions/3.9.4/envs/snn_bayes/lib/python3.9/site-packages/pgmpy/models/MarkovNetwork.py:664\u001b[0m, in \u001b[0;36mMarkovNetwork.to_bayesian_model\u001b[0;34m(self)\u001b[0m\n\u001b[1;32m    <a href='file:///~/.pyenv/versions/3.9.4/envs/snn_bayes/lib/python3.9/site-packages/pgmpy/models/MarkovNetwork.py?line=658'>659</a>\u001b[0m subgraph \u001b[39m=\u001b[39m \u001b[39mself\u001b[39m\u001b[39m.\u001b[39msubgraph(node_set)\n\u001b[1;32m    <a href='file:///~/.pyenv/versions/3.9.4/envs/snn_bayes/lib/python3.9/site-packages/pgmpy/models/MarkovNetwork.py?line=660'>661</a>\u001b[0m \u001b[39m# Create a junction tree from the markov model.\u001b[39;00m\n\u001b[1;32m    <a href='file:///~/.pyenv/versions/3.9.4/envs/snn_bayes/lib/python3.9/site-packages/pgmpy/models/MarkovNetwork.py?line=661'>662</a>\u001b[0m \u001b[39m# Creation of clique tree involves triangulation, finding maximal cliques\u001b[39;00m\n\u001b[1;32m    <a href='file:///~/.pyenv/versions/3.9.4/envs/snn_bayes/lib/python3.9/site-packages/pgmpy/models/MarkovNetwork.py?line=662'>663</a>\u001b[0m \u001b[39m# and creating a tree from these cliques\u001b[39;00m\n\u001b[0;32m--> <a href='file:///~/.pyenv/versions/3.9.4/envs/snn_bayes/lib/python3.9/site-packages/pgmpy/models/MarkovNetwork.py?line=663'>664</a>\u001b[0m junction_tree \u001b[39m=\u001b[39m MarkovNetwork(subgraph\u001b[39m.\u001b[39;49medges())\u001b[39m.\u001b[39;49mto_junction_tree()\n\u001b[1;32m    <a href='file:///~/.pyenv/versions/3.9.4/envs/snn_bayes/lib/python3.9/site-packages/pgmpy/models/MarkovNetwork.py?line=665'>666</a>\u001b[0m \u001b[39m# create an ordering of the nodes based on the ordering of the clique\u001b[39;00m\n\u001b[1;32m    <a href='file:///~/.pyenv/versions/3.9.4/envs/snn_bayes/lib/python3.9/site-packages/pgmpy/models/MarkovNetwork.py?line=666'>667</a>\u001b[0m \u001b[39m# in which it appeared first\u001b[39;00m\n\u001b[1;32m    <a href='file:///~/.pyenv/versions/3.9.4/envs/snn_bayes/lib/python3.9/site-packages/pgmpy/models/MarkovNetwork.py?line=667'>668</a>\u001b[0m root_node \u001b[39m=\u001b[39m \u001b[39mnext\u001b[39m(\u001b[39miter\u001b[39m(junction_tree\u001b[39m.\u001b[39mnodes()))\n",
      "File \u001b[0;32m~/.pyenv/versions/3.9.4/envs/snn_bayes/lib/python3.9/site-packages/pgmpy/models/MarkovNetwork.py:547\u001b[0m, in \u001b[0;36mMarkovNetwork.to_junction_tree\u001b[0;34m(self)\u001b[0m\n\u001b[1;32m    <a href='file:///~/.pyenv/versions/3.9.4/envs/snn_bayes/lib/python3.9/site-packages/pgmpy/models/MarkovNetwork.py?line=544'>545</a>\u001b[0m \u001b[39m# To compute clique potential, initially set it as unity factor\u001b[39;00m\n\u001b[1;32m    <a href='file:///~/.pyenv/versions/3.9.4/envs/snn_bayes/lib/python3.9/site-packages/pgmpy/models/MarkovNetwork.py?line=545'>546</a>\u001b[0m var_card \u001b[39m=\u001b[39m [\u001b[39mself\u001b[39m\u001b[39m.\u001b[39mget_cardinality()[x] \u001b[39mfor\u001b[39;00m x \u001b[39min\u001b[39;00m node]\n\u001b[0;32m--> <a href='file:///~/.pyenv/versions/3.9.4/envs/snn_bayes/lib/python3.9/site-packages/pgmpy/models/MarkovNetwork.py?line=546'>547</a>\u001b[0m clique_potential \u001b[39m=\u001b[39m DiscreteFactor(\n\u001b[1;32m    <a href='file:///~/.pyenv/versions/3.9.4/envs/snn_bayes/lib/python3.9/site-packages/pgmpy/models/MarkovNetwork.py?line=547'>548</a>\u001b[0m     node, var_card, np\u001b[39m.\u001b[39;49mones(np\u001b[39m.\u001b[39;49mproduct(var_card))\n\u001b[1;32m    <a href='file:///~/.pyenv/versions/3.9.4/envs/snn_bayes/lib/python3.9/site-packages/pgmpy/models/MarkovNetwork.py?line=548'>549</a>\u001b[0m )\n\u001b[1;32m    <a href='file:///~/.pyenv/versions/3.9.4/envs/snn_bayes/lib/python3.9/site-packages/pgmpy/models/MarkovNetwork.py?line=549'>550</a>\u001b[0m \u001b[39m# multiply it with the factors associated with the variables present\u001b[39;00m\n\u001b[1;32m    <a href='file:///~/.pyenv/versions/3.9.4/envs/snn_bayes/lib/python3.9/site-packages/pgmpy/models/MarkovNetwork.py?line=550'>551</a>\u001b[0m \u001b[39m# in the clique (or node)\u001b[39;00m\n\u001b[1;32m    <a href='file:///~/.pyenv/versions/3.9.4/envs/snn_bayes/lib/python3.9/site-packages/pgmpy/models/MarkovNetwork.py?line=551'>552</a>\u001b[0m \u001b[39m# Checking if there's clique_factors, to handle the case when clique_factors\u001b[39;00m\n\u001b[1;32m    <a href='file:///~/.pyenv/versions/3.9.4/envs/snn_bayes/lib/python3.9/site-packages/pgmpy/models/MarkovNetwork.py?line=552'>553</a>\u001b[0m \u001b[39m# is empty, otherwise factor_product with throw an error [ref #889]\u001b[39;00m\n\u001b[1;32m    <a href='file:///~/.pyenv/versions/3.9.4/envs/snn_bayes/lib/python3.9/site-packages/pgmpy/models/MarkovNetwork.py?line=553'>554</a>\u001b[0m \u001b[39mif\u001b[39;00m clique_factors:\n",
      "File \u001b[0;32m~/.pyenv/versions/3.9.4/envs/snn_bayes/lib/python3.9/site-packages/pgmpy/factors/discrete/DiscreteFactor.py:103\u001b[0m, in \u001b[0;36mDiscreteFactor.__init__\u001b[0;34m(self, variables, cardinality, values, state_names)\u001b[0m\n\u001b[1;32m    <a href='file:///~/.pyenv/versions/3.9.4/envs/snn_bayes/lib/python3.9/site-packages/pgmpy/factors/discrete/DiscreteFactor.py?line=100'>101</a>\u001b[0m \u001b[39mself\u001b[39m\u001b[39m.\u001b[39mvariables \u001b[39m=\u001b[39m \u001b[39mlist\u001b[39m(variables)\n\u001b[1;32m    <a href='file:///~/.pyenv/versions/3.9.4/envs/snn_bayes/lib/python3.9/site-packages/pgmpy/factors/discrete/DiscreteFactor.py?line=101'>102</a>\u001b[0m \u001b[39mself\u001b[39m\u001b[39m.\u001b[39mcardinality \u001b[39m=\u001b[39m np\u001b[39m.\u001b[39marray(cardinality, dtype\u001b[39m=\u001b[39m\u001b[39mint\u001b[39m)\n\u001b[0;32m--> <a href='file:///~/.pyenv/versions/3.9.4/envs/snn_bayes/lib/python3.9/site-packages/pgmpy/factors/discrete/DiscreteFactor.py?line=102'>103</a>\u001b[0m \u001b[39mself\u001b[39m\u001b[39m.\u001b[39mvalues \u001b[39m=\u001b[39m values\u001b[39m.\u001b[39;49mreshape(\u001b[39mself\u001b[39;49m\u001b[39m.\u001b[39;49mcardinality)\n\u001b[1;32m    <a href='file:///~/.pyenv/versions/3.9.4/envs/snn_bayes/lib/python3.9/site-packages/pgmpy/factors/discrete/DiscreteFactor.py?line=104'>105</a>\u001b[0m \u001b[39m# Set the state names\u001b[39;00m\n\u001b[1;32m    <a href='file:///~/.pyenv/versions/3.9.4/envs/snn_bayes/lib/python3.9/site-packages/pgmpy/factors/discrete/DiscreteFactor.py?line=105'>106</a>\u001b[0m \u001b[39msuper\u001b[39m(DiscreteFactor, \u001b[39mself\u001b[39m)\u001b[39m.\u001b[39mstore_state_names(\n\u001b[1;32m    <a href='file:///~/.pyenv/versions/3.9.4/envs/snn_bayes/lib/python3.9/site-packages/pgmpy/factors/discrete/DiscreteFactor.py?line=106'>107</a>\u001b[0m     variables, cardinality, state_names\n\u001b[1;32m    <a href='file:///~/.pyenv/versions/3.9.4/envs/snn_bayes/lib/python3.9/site-packages/pgmpy/factors/discrete/DiscreteFactor.py?line=107'>108</a>\u001b[0m )\n",
      "\u001b[0;31mValueError\u001b[0m: maximum supported dimension for an ndarray is 32, found 48"
     ]
    }
   ],
   "source": [
    "bm = mm.to_bayesian_model()"
   ]
  },
  {
   "cell_type": "code",
   "execution_count": null,
   "metadata": {},
   "outputs": [],
   "source": [
    "from pgmpy.inference import ApproxInference\n",
    "sampling = ApproxInference(bm)\n",
    "sampling.query()"
   ]
  }
 ],
 "metadata": {
  "interpreter": {
   "hash": "2b05cdc95f6b81e3ee1f534c0227659d53a645a187658cf85584362b41759636"
  },
  "kernelspec": {
   "display_name": "Python 3.8.2 64-bit ('bayesian')",
   "language": "python",
   "name": "python3"
  },
  "language_info": {
   "codemirror_mode": {
    "name": "ipython",
    "version": 3
   },
   "file_extension": ".py",
   "mimetype": "text/x-python",
   "name": "python",
   "nbconvert_exporter": "python",
   "pygments_lexer": "ipython3",
   "version": "3.8.2"
  },
  "orig_nbformat": 4
 },
 "nbformat": 4,
 "nbformat_minor": 2
}
