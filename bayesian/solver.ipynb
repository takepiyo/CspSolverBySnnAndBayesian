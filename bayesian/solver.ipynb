{
 "cells": [
  {
   "cell_type": "code",
   "execution_count": 20,
   "metadata": {},
   "outputs": [],
   "source": [
    "from pgmpy.models import FactorGraph\n",
    "from pgmpy.factors.discrete import DiscreteFactor\n",
    "from pgmpy.inference.ExactInference import BeliefPropagation\n",
    "import numpy as np"
   ]
  },
  {
   "cell_type": "code",
   "execution_count": 72,
   "metadata": {},
   "outputs": [],
   "source": [
    "import math\n",
    "import sys\n",
    "sys.path.append(\"../CSP/\")\n",
    "from sudoku import Sudoku"
   ]
  },
  {
   "cell_type": "code",
   "execution_count": 75,
   "metadata": {},
   "outputs": [],
   "source": [
    "sudoku_size = 4\n",
    "root_sudoku_size = math.sqrt(sudoku_size)\n",
    "pow_two_mask_except_zero = [True if (i & (i - 1)) == 0 and i != 0 else False for i in range(2**sudoku_size)] #True if 1 of K representation is valid. False in Otherwise\n",
    "enforce_rate = 0.99\n",
    "factor_prob = np.where(pow_two_mask_except_zero, enforce_rate, 1 - enforce_rate)"
   ]
  },
  {
   "cell_type": "code",
   "execution_count": 76,
   "metadata": {},
   "outputs": [
    {
     "name": "stdout",
     "output_type": "stream",
     "text": [
      "[0.01 0.99 0.99 0.01 0.99 0.01 0.01 0.01 0.99 0.01 0.01 0.01 0.01 0.01\n",
      " 0.01 0.01]\n"
     ]
    }
   ],
   "source": [
    "print(factor_prob)  #normalize is not necessary"
   ]
  },
  {
   "cell_type": "code",
   "execution_count": 67,
   "metadata": {},
   "outputs": [
    {
     "data": {
      "text/plain": [
       "True"
      ]
     },
     "execution_count": 67,
     "metadata": {},
     "output_type": "execute_result"
    }
   ],
   "source": [
    "graph = FactorGraph()\n",
    "graph.add_nodes_from([\"{}_{}_{}\".format(y, x, num) for y in range(sudoku_size) for x in range(sudoku_size) for num in range(sudoku_size)])\n",
    "#each cell constraint\n",
    "for y in range(sudoku_size):\n",
    "    for x in range(sudoku_size):\n",
    "        factor = DiscreteFactor([\"{}_{}_{}\".format(y, x, num) for num in range(sudoku_size)]\n",
    "        ,[2 for _ in range(sudoku_size)], factor_prob)\n",
    "        graph.add_factors(factor)\n",
    "        graph.add_edges_from([(\"{}_{}_{}\".format(y, x, num), factor) for num in range(sudoku_size)])\n",
    "#column constraint\n",
    "for y in range(sudoku_size):\n",
    "    for num in range(sudoku_size):\n",
    "        factor = DiscreteFactor([\"{}_{}_{}\".format(y, x, num) for x in range(sudoku_size)], [2 for _ in range(sudoku_size)], factor_prob)\n",
    "        graph.add_factors(factor)\n",
    "        graph.add_edges_from([(\"{}_{}_{}\".format(y, x, num), factor) for x in range(sudoku_size)])\n",
    "#row constraint\n",
    "for x in range(sudoku_size):\n",
    "    for num in range(sudoku_size):\n",
    "        factor = DiscreteFactor([\"{}_{}_{}\".format(y, x, num) for y in range(sudoku_size)], [2 for _ in range(sudoku_size)], factor_prob)\n",
    "        graph.add_factors(factor)\n",
    "        graph.add_edges_from([(\"{}_{}_{}\".format(y, x, num), factor) for y in range(sudoku_size)])\n",
    "#block constraint\n",
    "for block_y in range(root_sudoku_size):\n",
    "    for block_x in range(root_sudoku_size):\n",
    "        for y in range(block_y * sudoku_size, (block_y + 1) * sudoku_size):\n",
    "            for y in range(block_x * sudoku_size, (block_x + 1) * sudoku_size):\n",
    "                \n",
    "graph.check_model()\n"
   ]
  },
  {
   "cell_type": "code",
   "execution_count": 80,
   "metadata": {},
   "outputs": [
    {
     "data": {
      "text/plain": [
       "[1, 2, 3, 4]"
      ]
     },
     "execution_count": 80,
     "metadata": {},
     "output_type": "execute_result"
    }
   ],
   "source": [
    "[i for i in range(1, 5)]"
   ]
  },
  {
   "cell_type": "code",
   "execution_count": 29,
   "metadata": {},
   "outputs": [
    {
     "name": "stdout",
     "output_type": "stream",
     "text": [
      "+----------+----------+----------+----------+--------------------------------+\n",
      "| 0_0_0    | 0_0_1    | 0_0_2    | 0_0_3    |   phi(0_0_0,0_0_1,0_0_2,0_0_3) |\n",
      "+==========+==========+==========+==========+================================+\n",
      "| 0_0_0(0) | 0_0_1(0) | 0_0_2(0) | 0_0_3(0) |                         1.0000 |\n",
      "+----------+----------+----------+----------+--------------------------------+\n",
      "| 0_0_0(0) | 0_0_1(0) | 0_0_2(0) | 0_0_3(1) |                         1.0000 |\n",
      "+----------+----------+----------+----------+--------------------------------+\n",
      "| 0_0_0(0) | 0_0_1(0) | 0_0_2(1) | 0_0_3(0) |                         1.0000 |\n",
      "+----------+----------+----------+----------+--------------------------------+\n",
      "| 0_0_0(0) | 0_0_1(0) | 0_0_2(1) | 0_0_3(1) |                         1.0000 |\n",
      "+----------+----------+----------+----------+--------------------------------+\n",
      "| 0_0_0(0) | 0_0_1(1) | 0_0_2(0) | 0_0_3(0) |                         1.0000 |\n",
      "+----------+----------+----------+----------+--------------------------------+\n",
      "| 0_0_0(0) | 0_0_1(1) | 0_0_2(0) | 0_0_3(1) |                         1.0000 |\n",
      "+----------+----------+----------+----------+--------------------------------+\n",
      "| 0_0_0(0) | 0_0_1(1) | 0_0_2(1) | 0_0_3(0) |                         1.0000 |\n",
      "+----------+----------+----------+----------+--------------------------------+\n",
      "| 0_0_0(0) | 0_0_1(1) | 0_0_2(1) | 0_0_3(1) |                         1.0000 |\n",
      "+----------+----------+----------+----------+--------------------------------+\n",
      "| 0_0_0(1) | 0_0_1(0) | 0_0_2(0) | 0_0_3(0) |                         1.0000 |\n",
      "+----------+----------+----------+----------+--------------------------------+\n",
      "| 0_0_0(1) | 0_0_1(0) | 0_0_2(0) | 0_0_3(1) |                         1.0000 |\n",
      "+----------+----------+----------+----------+--------------------------------+\n",
      "| 0_0_0(1) | 0_0_1(0) | 0_0_2(1) | 0_0_3(0) |                         1.0000 |\n",
      "+----------+----------+----------+----------+--------------------------------+\n",
      "| 0_0_0(1) | 0_0_1(0) | 0_0_2(1) | 0_0_3(1) |                         1.0000 |\n",
      "+----------+----------+----------+----------+--------------------------------+\n",
      "| 0_0_0(1) | 0_0_1(1) | 0_0_2(0) | 0_0_3(0) |                         1.0000 |\n",
      "+----------+----------+----------+----------+--------------------------------+\n",
      "| 0_0_0(1) | 0_0_1(1) | 0_0_2(0) | 0_0_3(1) |                         1.0000 |\n",
      "+----------+----------+----------+----------+--------------------------------+\n",
      "| 0_0_0(1) | 0_0_1(1) | 0_0_2(1) | 0_0_3(0) |                         1.0000 |\n",
      "+----------+----------+----------+----------+--------------------------------+\n",
      "| 0_0_0(1) | 0_0_1(1) | 0_0_2(1) | 0_0_3(1) |                         1.0000 |\n",
      "+----------+----------+----------+----------+--------------------------------+\n"
     ]
    }
   ],
   "source": [
    "print(graph.get_factors()[0])"
   ]
  },
  {
   "cell_type": "code",
   "execution_count": 59,
   "metadata": {},
   "outputs": [
    {
     "data": {
      "text/plain": [
       "2417851639229258349412352"
      ]
     },
     "execution_count": 59,
     "metadata": {},
     "output_type": "execute_result"
    }
   ],
   "source": [
    "2**81"
   ]
  },
  {
   "cell_type": "code",
   "execution_count": 60,
   "metadata": {},
   "outputs": [
    {
     "data": {
      "text/plain": [
       "4608"
      ]
     },
     "execution_count": 60,
     "metadata": {},
     "output_type": "execute_result"
    }
   ],
   "source": [
    "(2**9) * 9"
   ]
  },
  {
   "cell_type": "code",
   "execution_count": 53,
   "metadata": {},
   "outputs": [
    {
     "data": {
      "text/plain": [
       "0"
      ]
     },
     "execution_count": 53,
     "metadata": {},
     "output_type": "execute_result"
    }
   ],
   "source": [
    "4 & 3"
   ]
  },
  {
   "cell_type": "code",
   "execution_count": 54,
   "metadata": {},
   "outputs": [
    {
     "data": {
      "text/plain": [
       "2"
      ]
     },
     "execution_count": 54,
     "metadata": {},
     "output_type": "execute_result"
    }
   ],
   "source": [
    "3 & 2"
   ]
  },
  {
   "cell_type": "code",
   "execution_count": 55,
   "metadata": {},
   "outputs": [
    {
     "data": {
      "text/plain": [
       "0"
      ]
     },
     "execution_count": 55,
     "metadata": {},
     "output_type": "execute_result"
    }
   ],
   "source": [
    "2 & 1"
   ]
  },
  {
   "cell_type": "code",
   "execution_count": null,
   "metadata": {},
   "outputs": [],
   "source": []
  }
 ],
 "metadata": {
  "interpreter": {
   "hash": "2b05cdc95f6b81e3ee1f534c0227659d53a645a187658cf85584362b41759636"
  },
  "kernelspec": {
   "display_name": "Python 3.8.2 64-bit ('bayesian')",
   "language": "python",
   "name": "python3"
  },
  "language_info": {
   "codemirror_mode": {
    "name": "ipython",
    "version": 3
   },
   "file_extension": ".py",
   "mimetype": "text/x-python",
   "name": "python",
   "nbconvert_exporter": "python",
   "pygments_lexer": "ipython3",
   "version": "3.8.2"
  },
  "orig_nbformat": 4
 },
 "nbformat": 4,
 "nbformat_minor": 2
}
