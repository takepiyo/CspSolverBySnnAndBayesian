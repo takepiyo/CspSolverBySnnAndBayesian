{
 "cells": [
  {
   "cell_type": "code",
   "execution_count": 2,
   "metadata": {},
   "outputs": [],
   "source": [
    "import pgmpy\n",
    "from IPython.display import Image"
   ]
  },
  {
   "cell_type": "code",
   "execution_count": 5,
   "metadata": {},
   "outputs": [
    {
     "data": {
      "text/plain": [
       "True"
      ]
     },
     "execution_count": 5,
     "metadata": {},
     "output_type": "execute_result"
    }
   ],
   "source": [
    "from pgmpy.models import BayesianModel\n",
    "from pgmpy.factors.discrete import TabularCPD\n",
    "\n",
    "# Defining the model structure. We can define the network by just passing a list of edges.\n",
    "model = BayesianModel([('D', 'G'), ('I', 'G'), ('G', 'L'), ('I', 'S')])\n",
    "\n",
    "# Defining individual CPDs.\n",
    "cpd_d = TabularCPD(variable='D', variable_card=2, values=[[0.6], [0.4]])\n",
    "cpd_i = TabularCPD(variable='I', variable_card=2, values=[[0.7], [0.3]])\n",
    "\n",
    "# The representation of CPD in pgmpy is a bit different than the CPD shown in the above picture. In pgmpy the colums\n",
    "# are the evidences and rows are the states of the variable. So the grade CPD is represented like this:\n",
    "#\n",
    "#    +---------+---------+---------+---------+---------+\n",
    "#    | diff    | intel_0 | intel_0 | intel_1 | intel_1 |\n",
    "#    +---------+---------+---------+---------+---------+\n",
    "#    | intel   | diff_0  | diff_1  | diff_0  | diff_1  |\n",
    "#    +---------+---------+---------+---------+---------+\n",
    "#    | grade_0 | 0.3     | 0.05    | 0.9     | 0.5     |\n",
    "#    +---------+---------+---------+---------+---------+\n",
    "#    | grade_1 | 0.4     | 0.25    | 0.08    | 0.3     |\n",
    "#    +---------+---------+---------+---------+---------+\n",
    "#    | grade_2 | 0.3     | 0.7     | 0.02    | 0.2     |\n",
    "#    +---------+---------+---------+---------+---------+\n",
    "\n",
    "cpd_g = TabularCPD(variable='G', variable_card=3,\n",
    "                   values=[[0.3, 0.05, 0.9,  0.5],\n",
    "                           [0.4, 0.25, 0.08, 0.3],\n",
    "                           [0.3, 0.7,  0.02, 0.2]],\n",
    "                  evidence=['I', 'D'],\n",
    "                  evidence_card=[2, 2])\n",
    "\n",
    "cpd_l = TabularCPD(variable='L', variable_card=2,\n",
    "                   values=[[0.1, 0.4, 0.99],\n",
    "                           [0.9, 0.6, 0.01]],\n",
    "                   evidence=['G'],\n",
    "                   evidence_card=[3])\n",
    "\n",
    "cpd_s = TabularCPD(variable='S', variable_card=2,\n",
    "                   values=[[0.95, 0.2],\n",
    "                           [0.05, 0.8]],\n",
    "                   evidence=['I'],\n",
    "                   evidence_card=[2])\n",
    "\n",
    "# Associating the CPDs with the network\n",
    "model.add_cpds(cpd_d, cpd_i, cpd_g, cpd_l, cpd_s)\n",
    "\n",
    "# check_model checks for the network structure and CPDs and verifies that the CPDs are correctly\n",
    "# defined and sum to 1.\n",
    "model.check_model()"
   ]
  },
  {
   "cell_type": "code",
   "execution_count": 21,
   "metadata": {},
   "outputs": [
    {
     "data": {
      "text/plain": [
       "True"
      ]
     },
     "execution_count": 21,
     "metadata": {},
     "output_type": "execute_result"
    }
   ],
   "source": [
    "from pgmpy.models import BayesianModel\n",
    "from pgmpy.factors.discrete import TabularCPD\n",
    "\n",
    "# Defining the model structure. We can define the network by just passing a list of edges.\n",
    "model = BayesianModel([('D', 'G'), ('I', 'G'), ('D', 'I')])\n",
    "\n",
    "# Defining individual CPDs.\n",
    "cpd_d = TabularCPD(variable='D', variable_card=2, values=[[0.6], [0.4]])\n",
    "cpd_i = TabularCPD(variable='I', variable_card=2, values=[[0.999, 0.5], [0.001, 0.5]], evidence=['D'], evidence_card=[2])\n",
    "\n",
    "\n",
    "# The representation of CPD in pgmpy is a bit different than the CPD shown in the above picture. In pgmpy the colums\n",
    "# are the evidences and rows are the states of the variable. So the grade CPD is represented like this:\n",
    "#\n",
    "#    +---------+---------+---------+---------+---------+\n",
    "#    | diff    | intel_0 | intel_0 | intel_1 | intel_1 |\n",
    "#    +---------+---------+---------+---------+---------+\n",
    "#    | intel   | diff_0  | diff_1  | diff_0  | diff_1  |\n",
    "#    +---------+---------+---------+---------+---------+\n",
    "#    | grade_0 | 0.3     | 0.05    | 0.9     | 0.5     |\n",
    "#    +---------+---------+---------+---------+---------+\n",
    "#    | grade_1 | 0.4     | 0.25    | 0.08    | 0.3     |\n",
    "#    +---------+---------+---------+---------+---------+\n",
    "#    | grade_2 | 0.3     | 0.7     | 0.02    | 0.2     |\n",
    "#    +---------+---------+---------+---------+---------+\n",
    "\n",
    "cpd_g = TabularCPD(variable='G', variable_card=3,\n",
    "                   values=[[0.01, 0.05, 0.9,  0.5],\n",
    "                           [0.0, 0.25, 0.08, 0.3],\n",
    "                           [0.99, 0.7,  0.02, 0.2]],\n",
    "                  evidence=['I', 'D'],\n",
    "                  evidence_card=[2, 2])\n",
    "\n",
    "# Associating the CPDs with the network\n",
    "model.add_cpds(cpd_d, cpd_i, cpd_g)\n",
    "\n",
    "# check_model checks for the network structure and CPDs and verifies that the CPDs are correctly\n",
    "# defined and sum to 1.\n",
    "model.check_model()"
   ]
  },
  {
   "cell_type": "code",
   "execution_count": 22,
   "metadata": {},
   "outputs": [],
   "source": [
    "from pgmpy.inference import BeliefPropagation\n",
    "bp = BeliefPropagation(model)\n",
    "bp.calibrate()"
   ]
  },
  {
   "cell_type": "code",
   "execution_count": 23,
   "metadata": {},
   "outputs": [
    {
     "name": "stderr",
     "output_type": "stream",
     "text": [
      "0it [00:00, ?it/s]\n"
     ]
    },
    {
     "data": {
      "text/plain": [
       "{'I': 0, 'G': 2}"
      ]
     },
     "execution_count": 23,
     "metadata": {},
     "output_type": "execute_result"
    }
   ],
   "source": [
    "bp.map_query(['I', 'G'], evidence={'D': 0})"
   ]
  },
  {
   "cell_type": "code",
   "execution_count": 27,
   "metadata": {},
   "outputs": [
    {
     "data": {
      "text/plain": [
       "True"
      ]
     },
     "execution_count": 27,
     "metadata": {},
     "output_type": "execute_result"
    }
   ],
   "source": [
    "from pgmpy.models import MarkovNetwork\n",
    "G = MarkovNetwork()\n",
    "G.add_nodes_from(['D', 'I', 'G'])\n",
    "G.add_edges_from([('D', 'G'), ('I', 'G'), ('G', 'I')])"
   ]
  },
  {
   "cell_type": "code",
   "execution_count": 34,
   "metadata": {},
   "outputs": [
    {
     "ename": "ValueError",
     "evalue": "DiscreteFactor inconsistent with the model.",
     "output_type": "error",
     "traceback": [
      "\u001b[0;31m---------------------------------------------------------------------------\u001b[0m",
      "\u001b[0;31mValueError\u001b[0m                                Traceback (most recent call last)",
      "\u001b[1;32m/home/takeshi/master/CspSolverBySnnAndBayesian/CSP/pgmpy_sample.ipynb Cell 7'\u001b[0m in \u001b[0;36m<cell line: 7>\u001b[0;34m()\u001b[0m\n\u001b[1;32m      <a href='vscode-notebook-cell:/home/takeshi/master/CspSolverBySnnAndBayesian/CSP/pgmpy_sample.ipynb#ch0000006?line=4'>5</a>\u001b[0m cpd_g \u001b[39m=\u001b[39m TabularCPD(variable\u001b[39m=\u001b[39m\u001b[39m'\u001b[39m\u001b[39mG\u001b[39m\u001b[39m'\u001b[39m, variable_card\u001b[39m=\u001b[39m\u001b[39m2\u001b[39m, values\u001b[39m=\u001b[39m[[\u001b[39m0.999\u001b[39m, \u001b[39m0.5\u001b[39m, \u001b[39m0.1\u001b[39m, \u001b[39m0.3\u001b[39m], [\u001b[39m0.001\u001b[39m, \u001b[39m0.5\u001b[39m, \u001b[39m0.9\u001b[39m, \u001b[39m0.7\u001b[39m]], evidence\u001b[39m=\u001b[39m[\u001b[39m'\u001b[39m\u001b[39mD\u001b[39m\u001b[39m'\u001b[39m, \u001b[39m'\u001b[39m\u001b[39mI\u001b[39m\u001b[39m'\u001b[39m], evidence_card\u001b[39m=\u001b[39m[\u001b[39m2\u001b[39m, \u001b[39m2\u001b[39m])\n\u001b[1;32m      <a href='vscode-notebook-cell:/home/takeshi/master/CspSolverBySnnAndBayesian/CSP/pgmpy_sample.ipynb#ch0000006?line=5'>6</a>\u001b[0m G\u001b[39m.\u001b[39madd_factors(cpd_d, cpd_i, cpd_g)\n\u001b[0;32m----> <a href='vscode-notebook-cell:/home/takeshi/master/CspSolverBySnnAndBayesian/CSP/pgmpy_sample.ipynb#ch0000006?line=6'>7</a>\u001b[0m G\u001b[39m.\u001b[39;49mcheck_model()\n",
      "File \u001b[0;32m~/.pyenv/versions/3.8.2/envs/bayesian/lib/python3.8/site-packages/pgmpy/models/MarkovNetwork.py:257\u001b[0m, in \u001b[0;36mMarkovNetwork.check_model\u001b[0;34m(self)\u001b[0m\n\u001b[1;32m    <a href='file:///~/.pyenv/versions/3.8.2/envs/bayesian/lib/python3.8/site-packages/pgmpy/models/MarkovNetwork.py?line=254'>255</a>\u001b[0m     \u001b[39mfor\u001b[39;00m var1, var2 \u001b[39min\u001b[39;00m itertools\u001b[39m.\u001b[39mcombinations(factor\u001b[39m.\u001b[39mvariables, \u001b[39m2\u001b[39m):\n\u001b[1;32m    <a href='file:///~/.pyenv/versions/3.8.2/envs/bayesian/lib/python3.8/site-packages/pgmpy/models/MarkovNetwork.py?line=255'>256</a>\u001b[0m         \u001b[39mif\u001b[39;00m var2 \u001b[39mnot\u001b[39;00m \u001b[39min\u001b[39;00m \u001b[39mself\u001b[39m\u001b[39m.\u001b[39mneighbors(var1):\n\u001b[0;32m--> <a href='file:///~/.pyenv/versions/3.8.2/envs/bayesian/lib/python3.8/site-packages/pgmpy/models/MarkovNetwork.py?line=256'>257</a>\u001b[0m             \u001b[39mraise\u001b[39;00m \u001b[39mValueError\u001b[39;00m(\u001b[39m\"\u001b[39m\u001b[39mDiscreteFactor inconsistent with the model.\u001b[39m\u001b[39m\"\u001b[39m)\n\u001b[1;32m    <a href='file:///~/.pyenv/versions/3.8.2/envs/bayesian/lib/python3.8/site-packages/pgmpy/models/MarkovNetwork.py?line=257'>258</a>\u001b[0m \u001b[39mreturn\u001b[39;00m \u001b[39mTrue\u001b[39;00m\n",
      "\u001b[0;31mValueError\u001b[0m: DiscreteFactor inconsistent with the model."
     ]
    }
   ],
   "source": [
    "from pgmpy.factors.discrete import TabularCPD\n",
    "# Defining individual CPDs.\n",
    "cpd_d = TabularCPD(variable='D', variable_card=2, values=[[0.6], [0.4]])\n",
    "cpd_i = TabularCPD(variable='I', variable_card=2, values=[[0.999, 0.5], [0.001, 0.5]], evidence=['G'], evidence_card=[2])\n",
    "cpd_g = TabularCPD(variable='G', variable_card=2, values=[[0.999, 0.5, 0.1, 0.3], [0.001, 0.5, 0.9, 0.7]], evidence=['D', 'I'], evidence_card=[2, 2])\n",
    "G.add_factors(cpd_d, cpd_i, cpd_g)\n",
    "G.check_model()\n"
   ]
  },
  {
   "cell_type": "code",
   "execution_count": 32,
   "metadata": {},
   "outputs": [
    {
     "name": "stdout",
     "output_type": "stream",
     "text": [
      "+------+-----+\n",
      "| D(0) | 0.6 |\n",
      "+------+-----+\n",
      "| D(1) | 0.4 |\n",
      "+------+-----+\n",
      "+------+-------+------+\n",
      "| G    | G(0)  | G(1) |\n",
      "+------+-------+------+\n",
      "| I(0) | 0.999 | 0.5  |\n",
      "+------+-------+------+\n",
      "| I(1) | 0.001 | 0.5  |\n",
      "+------+-------+------+\n",
      "+------+-------+------+------+------+\n",
      "| D    | D(0)  | D(0) | D(1) | D(1) |\n",
      "+------+-------+------+------+------+\n",
      "| I    | I(0)  | I(1) | I(0) | I(1) |\n",
      "+------+-------+------+------+------+\n",
      "| G(0) | 0.999 | 0.5  | 0.1  | 0.3  |\n",
      "+------+-------+------+------+------+\n",
      "| G(1) | 0.001 | 0.5  | 0.9  | 0.7  |\n",
      "+------+-------+------+------+------+\n"
     ]
    }
   ],
   "source": [
    "print(G.get_factors()[0])\n",
    "print(G.get_factors()[1])\n",
    "print(G.get_factors()[2])"
   ]
  },
  {
   "cell_type": "code",
   "execution_count": 33,
   "metadata": {},
   "outputs": [
    {
     "ename": "ValueError",
     "evalue": "DiscreteFactor inconsistent with the model.",
     "output_type": "error",
     "traceback": [
      "\u001b[0;31m---------------------------------------------------------------------------\u001b[0m",
      "\u001b[0;31mValueError\u001b[0m                                Traceback (most recent call last)",
      "\u001b[1;32m/home/takeshi/master/CspSolverBySnnAndBayesian/CSP/pgmpy_sample.ipynb Cell 9'\u001b[0m in \u001b[0;36m<cell line: 1>\u001b[0;34m()\u001b[0m\n\u001b[0;32m----> <a href='vscode-notebook-cell:/home/takeshi/master/CspSolverBySnnAndBayesian/CSP/pgmpy_sample.ipynb#ch0000008?line=0'>1</a>\u001b[0m bp \u001b[39m=\u001b[39m BeliefPropagation(G)\n",
      "File \u001b[0;32m~/.pyenv/versions/3.8.2/envs/bayesian/lib/python3.8/site-packages/pgmpy/inference/ExactInference.py:589\u001b[0m, in \u001b[0;36mBeliefPropagation.__init__\u001b[0;34m(self, model)\u001b[0m\n\u001b[1;32m    <a href='file:///~/.pyenv/versions/3.8.2/envs/bayesian/lib/python3.8/site-packages/pgmpy/inference/ExactInference.py?line=587'>588</a>\u001b[0m \u001b[39mdef\u001b[39;00m \u001b[39m__init__\u001b[39m(\u001b[39mself\u001b[39m, model):\n\u001b[0;32m--> <a href='file:///~/.pyenv/versions/3.8.2/envs/bayesian/lib/python3.8/site-packages/pgmpy/inference/ExactInference.py?line=588'>589</a>\u001b[0m     \u001b[39msuper\u001b[39;49m(BeliefPropagation, \u001b[39mself\u001b[39;49m)\u001b[39m.\u001b[39;49m\u001b[39m__init__\u001b[39;49m(model)\n\u001b[1;32m    <a href='file:///~/.pyenv/versions/3.8.2/envs/bayesian/lib/python3.8/site-packages/pgmpy/inference/ExactInference.py?line=590'>591</a>\u001b[0m     \u001b[39mif\u001b[39;00m \u001b[39mnot\u001b[39;00m \u001b[39misinstance\u001b[39m(model, JunctionTree):\n\u001b[1;32m    <a href='file:///~/.pyenv/versions/3.8.2/envs/bayesian/lib/python3.8/site-packages/pgmpy/inference/ExactInference.py?line=591'>592</a>\u001b[0m         \u001b[39mself\u001b[39m\u001b[39m.\u001b[39mjunction_tree \u001b[39m=\u001b[39m model\u001b[39m.\u001b[39mto_junction_tree()\n",
      "File \u001b[0;32m~/.pyenv/versions/3.8.2/envs/bayesian/lib/python3.8/site-packages/pgmpy/inference/base.py:65\u001b[0m, in \u001b[0;36mInference.__init__\u001b[0;34m(self, model)\u001b[0m\n\u001b[1;32m     <a href='file:///~/.pyenv/versions/3.8.2/envs/bayesian/lib/python3.8/site-packages/pgmpy/inference/base.py?line=62'>63</a>\u001b[0m \u001b[39mdef\u001b[39;00m \u001b[39m__init__\u001b[39m(\u001b[39mself\u001b[39m, model):\n\u001b[1;32m     <a href='file:///~/.pyenv/versions/3.8.2/envs/bayesian/lib/python3.8/site-packages/pgmpy/inference/base.py?line=63'>64</a>\u001b[0m     \u001b[39mself\u001b[39m\u001b[39m.\u001b[39mmodel \u001b[39m=\u001b[39m model\n\u001b[0;32m---> <a href='file:///~/.pyenv/versions/3.8.2/envs/bayesian/lib/python3.8/site-packages/pgmpy/inference/base.py?line=64'>65</a>\u001b[0m     model\u001b[39m.\u001b[39;49mcheck_model()\n\u001b[1;32m     <a href='file:///~/.pyenv/versions/3.8.2/envs/bayesian/lib/python3.8/site-packages/pgmpy/inference/base.py?line=66'>67</a>\u001b[0m     \u001b[39mif\u001b[39;00m \u001b[39misinstance\u001b[39m(\u001b[39mself\u001b[39m\u001b[39m.\u001b[39mmodel, JunctionTree):\n\u001b[1;32m     <a href='file:///~/.pyenv/versions/3.8.2/envs/bayesian/lib/python3.8/site-packages/pgmpy/inference/base.py?line=67'>68</a>\u001b[0m         \u001b[39mself\u001b[39m\u001b[39m.\u001b[39mvariables \u001b[39m=\u001b[39m \u001b[39mset\u001b[39m(chain(\u001b[39m*\u001b[39m\u001b[39mself\u001b[39m\u001b[39m.\u001b[39mmodel\u001b[39m.\u001b[39mnodes()))\n",
      "File \u001b[0;32m~/.pyenv/versions/3.8.2/envs/bayesian/lib/python3.8/site-packages/pgmpy/models/MarkovNetwork.py:257\u001b[0m, in \u001b[0;36mMarkovNetwork.check_model\u001b[0;34m(self)\u001b[0m\n\u001b[1;32m    <a href='file:///~/.pyenv/versions/3.8.2/envs/bayesian/lib/python3.8/site-packages/pgmpy/models/MarkovNetwork.py?line=254'>255</a>\u001b[0m     \u001b[39mfor\u001b[39;00m var1, var2 \u001b[39min\u001b[39;00m itertools\u001b[39m.\u001b[39mcombinations(factor\u001b[39m.\u001b[39mvariables, \u001b[39m2\u001b[39m):\n\u001b[1;32m    <a href='file:///~/.pyenv/versions/3.8.2/envs/bayesian/lib/python3.8/site-packages/pgmpy/models/MarkovNetwork.py?line=255'>256</a>\u001b[0m         \u001b[39mif\u001b[39;00m var2 \u001b[39mnot\u001b[39;00m \u001b[39min\u001b[39;00m \u001b[39mself\u001b[39m\u001b[39m.\u001b[39mneighbors(var1):\n\u001b[0;32m--> <a href='file:///~/.pyenv/versions/3.8.2/envs/bayesian/lib/python3.8/site-packages/pgmpy/models/MarkovNetwork.py?line=256'>257</a>\u001b[0m             \u001b[39mraise\u001b[39;00m \u001b[39mValueError\u001b[39;00m(\u001b[39m\"\u001b[39m\u001b[39mDiscreteFactor inconsistent with the model.\u001b[39m\u001b[39m\"\u001b[39m)\n\u001b[1;32m    <a href='file:///~/.pyenv/versions/3.8.2/envs/bayesian/lib/python3.8/site-packages/pgmpy/models/MarkovNetwork.py?line=257'>258</a>\u001b[0m \u001b[39mreturn\u001b[39;00m \u001b[39mTrue\u001b[39;00m\n",
      "\u001b[0;31mValueError\u001b[0m: DiscreteFactor inconsistent with the model."
     ]
    }
   ],
   "source": [
    "bp = BeliefPropagation(G)"
   ]
  },
  {
   "cell_type": "code",
   "execution_count": 39,
   "metadata": {},
   "outputs": [
    {
     "data": {
      "text/plain": [
       "True"
      ]
     },
     "execution_count": 39,
     "metadata": {},
     "output_type": "execute_result"
    }
   ],
   "source": [
    "import numpy as np\n",
    "from pgmpy.models import FactorGraph\n",
    "from pgmpy.factors.discrete import DiscreteFactor\n",
    "G = FactorGraph()\n",
    "G.add_nodes_from(['a', 'b', 'c'])\n",
    "phi1 = DiscreteFactor(['a', 'b'], [2, 2], np.array([10, 0.1, 0.1, 0.1]))\n",
    "phi2 = DiscreteFactor(['b', 'c'], [2, 2], np.random.rand(4))\n",
    "G.add_factors(phi1, phi2)\n",
    "G.add_nodes_from([phi1, phi2])\n",
    "G.add_edges_from([('a', phi1), ('b', phi1),\n",
    "                  ('b', phi2), ('c', phi2)])\n",
    "G.check_model()"
   ]
  },
  {
   "cell_type": "code",
   "execution_count": 40,
   "metadata": {},
   "outputs": [
    {
     "name": "stdout",
     "output_type": "stream",
     "text": [
      "+------+------+------------+\n",
      "| a    | b    |   phi(a,b) |\n",
      "+======+======+============+\n",
      "| a(0) | b(0) |    10.0000 |\n",
      "+------+------+------------+\n",
      "| a(0) | b(1) |     0.1000 |\n",
      "+------+------+------------+\n",
      "| a(1) | b(0) |     0.1000 |\n",
      "+------+------+------------+\n",
      "| a(1) | b(1) |     0.1000 |\n",
      "+------+------+------------+\n",
      "+------+------+------------+\n",
      "| b    | c    |   phi(b,c) |\n",
      "+======+======+============+\n",
      "| b(0) | c(0) |     0.7868 |\n",
      "+------+------+------------+\n",
      "| b(0) | c(1) |     0.9785 |\n",
      "+------+------+------------+\n",
      "| b(1) | c(0) |     0.3372 |\n",
      "+------+------+------------+\n",
      "| b(1) | c(1) |     0.3788 |\n",
      "+------+------+------------+\n"
     ]
    }
   ],
   "source": [
    "print(G.get_factors()[0])\n",
    "print(G.get_factors()[1])"
   ]
  },
  {
   "cell_type": "code",
   "execution_count": 41,
   "metadata": {},
   "outputs": [],
   "source": [
    "bp = BeliefPropagation(G)\n",
    "bp.calibrate()"
   ]
  },
  {
   "cell_type": "code",
   "execution_count": 42,
   "metadata": {},
   "outputs": [
    {
     "name": "stderr",
     "output_type": "stream",
     "text": [
      "0it [00:00, ?it/s]\n"
     ]
    },
    {
     "data": {
      "text/plain": [
       "{'a': 0, 'b': 0, 'c': 1}"
      ]
     },
     "execution_count": 42,
     "metadata": {},
     "output_type": "execute_result"
    }
   ],
   "source": [
    "bp.map_query(['a', 'b', 'c'])"
   ]
  },
  {
   "cell_type": "code",
   "execution_count": null,
   "metadata": {},
   "outputs": [],
   "source": []
  }
 ],
 "metadata": {
  "interpreter": {
   "hash": "2b05cdc95f6b81e3ee1f534c0227659d53a645a187658cf85584362b41759636"
  },
  "kernelspec": {
   "display_name": "Python 3.8.2 64-bit ('bayesian')",
   "language": "python",
   "name": "python3"
  },
  "language_info": {
   "codemirror_mode": {
    "name": "ipython",
    "version": 3
   },
   "file_extension": ".py",
   "mimetype": "text/x-python",
   "name": "python",
   "nbconvert_exporter": "python",
   "pygments_lexer": "ipython3",
   "version": "3.8.2"
  },
  "orig_nbformat": 4
 },
 "nbformat": 4,
 "nbformat_minor": 2
}
